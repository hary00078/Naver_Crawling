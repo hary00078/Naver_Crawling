{
 "cells": [
  {
   "cell_type": "code",
   "execution_count": 11,
   "id": "ea685362",
   "metadata": {},
   "outputs": [],
   "source": [
    "import chromedriver_autoinstaller\n",
    "import time\n",
    "from selenium import webdriver\n",
    "from bs4  import BeautifulSoup as bs\n",
    "import csv\n",
    "from selenium.webdriver.common.by import By\n",
    "import requests\n",
    "import urllib.request\n",
    "from tqdm import tqdm \n",
    "import pandas as pd"
   ]
  },
  {
   "cell_type": "code",
   "execution_count": 2,
   "id": "562f0e30",
   "metadata": {},
   "outputs": [],
   "source": [
    "url = \"https://nid.naver.com/nidlogin.login\"\n",
    "id = 'Your ID'\n",
    "pw = 'Your Password'"
   ]
  },
  {
   "cell_type": "code",
   "execution_count": 3,
   "id": "06e062ec",
   "metadata": {},
   "outputs": [
    {
     "name": "stderr",
     "output_type": "stream",
     "text": [
      "C:\\Users\\user\\anaconda3\\envs\\crawling\\lib\\site-packages\\ipykernel_launcher.py:2: DeprecationWarning: executable_path has been deprecated, please pass in a Service object\n",
      "  \n"
     ]
    }
   ],
   "source": [
    "dir_driver = chromedriver_autoinstaller.get_chrome_version().split('.')[0]\n",
    "driver = webdriver.Chrome('./chromedriver.exe')\n",
    "driver.get(url)\n",
    "\n",
    "driver.implicitly_wait(2)"
   ]
  },
  {
   "cell_type": "code",
   "execution_count": 4,
   "id": "bfdb1ea1",
   "metadata": {},
   "outputs": [],
   "source": [
    "driver.execute_script(\"document.getElementsByName('id')[0].value = '\" + id + \"'\")\n",
    "driver.execute_script(\"document.getElementsByName('pw')[0].value = '\" + pw + \"'\")"
   ]
  },
  {
   "cell_type": "code",
   "execution_count": 5,
   "id": "d98fcaa5",
   "metadata": {},
   "outputs": [],
   "source": [
    "button = driver.find_element(By.ID, \"log.login\")\n",
    "button.click()\n",
    "time.sleep(1)"
   ]
  },
  {
   "cell_type": "code",
   "execution_count": 6,
   "id": "f111c043",
   "metadata": {},
   "outputs": [],
   "source": [
    "baseurl = 'https://cafe.naver.com/koreanmania'\n",
    "driver.get(baseurl)\n",
    "time.sleep(1)"
   ]
  },
  {
   "cell_type": "code",
   "execution_count": 7,
   "id": "c6e8121c",
   "metadata": {},
   "outputs": [],
   "source": [
    "menu = driver.find_element(By.ID, \"menuLink24\")\n",
    "menu.click()\n",
    "time.sleep(1)"
   ]
  },
  {
   "cell_type": "code",
   "execution_count": 8,
   "id": "33899d0a",
   "metadata": {},
   "outputs": [],
   "source": [
    "driver.switch_to.frame(\"cafe_main\")\n",
    "time.sleep(1)"
   ]
  },
  {
   "cell_type": "code",
   "execution_count": 9,
   "id": "feaee6af",
   "metadata": {},
   "outputs": [],
   "source": [
    "soup = bs(driver.page_source ,'html.parser')\n",
    "soup = soup.find_all(class_ = 'article-board m-tcol-c')[1]"
   ]
  },
  {
   "cell_type": "code",
   "execution_count": 10,
   "id": "a85f4b8c",
   "metadata": {},
   "outputs": [
    {
     "name": "stderr",
     "output_type": "stream",
     "text": [
      "  0%|                                                                                           | 0/13 [00:00<?, ?it/s]C:\\Users\\user\\anaconda3\\envs\\crawling\\lib\\site-packages\\ipykernel_launcher.py:7: DeprecationWarning: find_element_by_link_text is deprecated. Please use find_element(by=By.LINK_TEXT, value=link_text) instead\n",
      "  import sys\n",
      " 69%|█████████████████████████████████████████████████████████▍                         | 9/13 [00:12<00:05,  1.36s/it]C:\\Users\\user\\anaconda3\\envs\\crawling\\lib\\site-packages\\ipykernel_launcher.py:19: DeprecationWarning: find_element_by_link_text is deprecated. Please use find_element(by=By.LINK_TEXT, value=link_text) instead\n",
      "100%|██████████████████████████████████████████████████████████████████████████████████| 13/13 [00:19<00:00,  1.46s/it]\n"
     ]
    }
   ],
   "source": [
    "page_num = 13\n",
    "clubid = 11276433\n",
    "menuid = 24\n",
    "title_list = []\n",
    "url_list = []\n",
    "for page in tqdm(range(1, page_num+1)):\n",
    "    driver.find_element_by_link_text(str(page)).click()\n",
    "    time.sleep(1)\n",
    "    soup = bs(driver.page_source ,'html.parser')\n",
    "    soup = soup.find_all(class_ = 'article-board m-tcol-c')[1]\n",
    "    datas = soup.find_all(\"td\", class_ = 'td_article')\n",
    "    for data in datas:\n",
    "        article_title = data.find(class_ = 'article')\n",
    "        link = article_title.get('href')\n",
    "        article_title = article_title.get_text().strip()\n",
    "        title_list.append(article_title)\n",
    "        url_list.append(baseurl+link)\n",
    "    if page % 10 == 0:\n",
    "        driver.find_element_by_link_text(str('다음')).click()\n",
    "        time.sleep(1)\n",
    "    time.sleep(0.1)"
   ]
  },
  {
   "cell_type": "code",
   "execution_count": 12,
   "id": "837f5752",
   "metadata": {},
   "outputs": [
    {
     "data": {
      "text/html": [
       "<div>\n",
       "<style scoped>\n",
       "    .dataframe tbody tr th:only-of-type {\n",
       "        vertical-align: middle;\n",
       "    }\n",
       "\n",
       "    .dataframe tbody tr th {\n",
       "        vertical-align: top;\n",
       "    }\n",
       "\n",
       "    .dataframe thead th {\n",
       "        text-align: right;\n",
       "    }\n",
       "</style>\n",
       "<table border=\"1\" class=\"dataframe\">\n",
       "  <thead>\n",
       "    <tr style=\"text-align: right;\">\n",
       "      <th></th>\n",
       "      <th>Title</th>\n",
       "      <th>URL</th>\n",
       "    </tr>\n",
       "  </thead>\n",
       "  <tbody>\n",
       "    <tr>\n",
       "      <th>0</th>\n",
       "      <td>그 카페스탭한테.........</td>\n",
       "      <td>https://cafe.naver.com/koreanmania/ArticleRead...</td>\n",
       "    </tr>\n",
       "    <tr>\n",
       "      <th>1</th>\n",
       "      <td>정신이 뿌연 느낌? 약이문제일까요?</td>\n",
       "      <td>https://cafe.naver.com/koreanmania/ArticleRead...</td>\n",
       "    </tr>\n",
       "    <tr>\n",
       "      <th>2</th>\n",
       "      <td>스피닝 운동</td>\n",
       "      <td>https://cafe.naver.com/koreanmania/ArticleRead...</td>\n",
       "    </tr>\n",
       "    <tr>\n",
       "      <th>3</th>\n",
       "      <td>.......</td>\n",
       "      <td>https://cafe.naver.com/koreanmania/ArticleRead...</td>\n",
       "    </tr>\n",
       "    <tr>\n",
       "      <th>4</th>\n",
       "      <td>우울증 제발 도와주세요..(우울한글 우울하면보지말아주세요)</td>\n",
       "      <td>https://cafe.naver.com/koreanmania/ArticleRead...</td>\n",
       "    </tr>\n",
       "  </tbody>\n",
       "</table>\n",
       "</div>"
      ],
      "text/plain": [
       "                              Title  \\\n",
       "0                 그 카페스탭한테.........   \n",
       "1               정신이 뿌연 느낌? 약이문제일까요?   \n",
       "2                            스피닝 운동   \n",
       "3                           .......   \n",
       "4  우울증 제발 도와주세요..(우울한글 우울하면보지말아주세요)   \n",
       "\n",
       "                                                 URL  \n",
       "0  https://cafe.naver.com/koreanmania/ArticleRead...  \n",
       "1  https://cafe.naver.com/koreanmania/ArticleRead...  \n",
       "2  https://cafe.naver.com/koreanmania/ArticleRead...  \n",
       "3  https://cafe.naver.com/koreanmania/ArticleRead...  \n",
       "4  https://cafe.naver.com/koreanmania/ArticleRead...  "
      ]
     },
     "execution_count": 12,
     "metadata": {},
     "output_type": "execute_result"
    }
   ],
   "source": [
    "df = pd.DataFrame((zip(title_list, url_list)), columns = ['Title', 'URL'])\n",
    "df.head()"
   ]
  },
  {
   "cell_type": "code",
   "execution_count": 13,
   "id": "4d797430",
   "metadata": {},
   "outputs": [
    {
     "name": "stderr",
     "output_type": "stream",
     "text": [
      "100%|████████████████████████████████████████████████████████████████████████████████| 195/195 [06:56<00:00,  2.14s/it]\n"
     ]
    }
   ],
   "source": [
    "contents = []\n",
    "for i,url in enumerate(tqdm(url_list)):\n",
    "    try:\n",
    "        driver.get(url)\n",
    "        time.sleep(0.5)\n",
    "        driver.switch_to.frame('cafe_main')\n",
    "        soup = bs(driver.page_source, 'html.parser')\n",
    "        content_tags = soup.select('#tbody')[0].select('p')\n",
    "        content = ' '.join([ tags.get_text() for tags in content_tags ])\n",
    "        contents.append(content)\n",
    "        time.sleep(1)\n",
    "    except:\n",
    "        continue"
   ]
  },
  {
   "cell_type": "code",
   "execution_count": 15,
   "id": "dd697858",
   "metadata": {},
   "outputs": [
    {
     "name": "stdout",
     "output_type": "stream",
     "text": [
      "잠이 안깬것처럼 깊은사고도 안되는거같고 ​ ​ 에프람정 20밀리그램 아빌리파이정 2밀리그램 독세정 6밀리그램 ​ 한미알마게이트정 ​ 이렇게먹는데 ​ 약은 괜찮은거같기도하구요 ​ 아빌리파이가 살찐다해서 안먹었다가 너무 무기력한거같아서 그냥 먹고있어요 ​ 귀찮아서 약안먹는때도 많구요.. 꾸준히먹어서 괜찮아졌음좋겠네요 ​\n"
     ]
    }
   ],
   "source": [
    "print(contents[1])"
   ]
  },
  {
   "cell_type": "code",
   "execution_count": null,
   "id": "13775bd2",
   "metadata": {},
   "outputs": [],
   "source": []
  }
 ],
 "metadata": {
  "kernelspec": {
   "display_name": "Python 3 (ipykernel)",
   "language": "python",
   "name": "python3"
  },
  "language_info": {
   "codemirror_mode": {
    "name": "ipython",
    "version": 3
   },
   "file_extension": ".py",
   "mimetype": "text/x-python",
   "name": "python",
   "nbconvert_exporter": "python",
   "pygments_lexer": "ipython3",
   "version": "3.7.0"
  }
 },
 "nbformat": 4,
 "nbformat_minor": 5
}
